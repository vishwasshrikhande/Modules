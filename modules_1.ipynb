{
 "metadata": {
  "language_info": {
   "codemirror_mode": {
    "name": "ipython",
    "version": 3
   },
   "file_extension": ".py",
   "mimetype": "text/x-python",
   "name": "python",
   "nbconvert_exporter": "python",
   "pygments_lexer": "ipython3",
   "version": "3.8.6-final"
  },
  "orig_nbformat": 2,
  "kernelspec": {
   "name": "python3",
   "display_name": "Python 3.8.6 64-bit",
   "metadata": {
    "interpreter": {
     "hash": "cc16ac041c0d4079ef4b47dc01379ffa67e67cf2c52ba49571836f7df9b56e66"
    }
   }
  }
 },
 "nbformat": 4,
 "nbformat_minor": 2,
 "cells": [
  {
   "cell_type": "code",
   "execution_count": 4,
   "metadata": {},
   "outputs": [],
   "source": [
    "import stylecloud as sc \n",
    "sc.gen_stylecloud(\n",
    "    file_path = 'styleclou_txt.txt',\n",
    "    icon_name='fas fa-circle',\n",
    "    output_name= 'styleclou.png'\n",
    ")"
   ]
  },
  {
   "cell_type": "code",
   "execution_count": 3,
   "metadata": {},
   "outputs": [
    {
     "output_type": "stream",
     "name": "stdout",
     "text": [
      "Narendra Damodardas Modi (Gujarati pronunciation: [ˈnəɾendrə dɑmodəɾˈdɑs ˈmodiː] (listen); born 17 September 1950) is an Indian politician serving as the 14th and current Prime Minister of India since 2014. He was the Chief Minister of Gujarat from 2001 to 2014 and is the Member of Parliament for Varanasi.\n"
     ]
    }
   ],
   "source": [
    "import wikipedia\n",
    "query = 'Narendra Modi'\n",
    "results = wikipedia.summary(query, sentences=2) ## change the number of sentence to get a larger words summary\n",
    "print(results)"
   ]
  },
  {
   "cell_type": "code",
   "execution_count": 6,
   "metadata": {},
   "outputs": [],
   "source": [
    "from win10toast import ToastNotifier\n",
    "import time \n",
    "toaster = ToastNotifier()\n",
    "header = 'Medium Article'\n",
    "text = 'Its the correct time to start writing your article'\n",
    "toaster.show_toast(f\"{header}\",f\"{text}\",duration=10,threaded=True)\n",
    "while toaster.notification_active(): time.sleep(0.005)   "
   ]
  },
  {
   "cell_type": "code",
   "execution_count": null,
   "metadata": {},
   "outputs": [],
   "source": []
  }
 ]
}