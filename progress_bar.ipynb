{
 "metadata": {
  "language_info": {
   "codemirror_mode": {
    "name": "ipython",
    "version": 3
   },
   "file_extension": ".py",
   "mimetype": "text/x-python",
   "name": "python",
   "nbconvert_exporter": "python",
   "pygments_lexer": "ipython3",
   "version": "3.8.6-final"
  },
  "orig_nbformat": 2,
  "kernelspec": {
   "name": "python3",
   "display_name": "Python 3.8.6 64-bit",
   "metadata": {
    "interpreter": {
     "hash": "cc16ac041c0d4079ef4b47dc01379ffa67e67cf2c52ba49571836f7df9b56e66"
    }
   }
  }
 },
 "nbformat": 4,
 "nbformat_minor": 2,
 "cells": [
  {
   "cell_type": "code",
   "execution_count": 1,
   "metadata": {},
   "outputs": [],
   "source": [
    "from progress.bar import Bar\n",
    "bar = Bar('Loading', max=20)\n",
    "for i in range(20):\n",
    "    # Any Task\n",
    "    for i in range(1,100):\n",
    "        \n",
    "    bar.next()\n",
    "bar.finish()"
   ]
  }
 ]
}